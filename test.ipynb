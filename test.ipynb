{
 "cells": [
  {
   "cell_type": "code",
   "execution_count": 1,
   "metadata": {},
   "outputs": [],
   "source": [
    "seed = 1\n",
    "import numpy as np\n",
    "import random\n",
    "np.random.seed(seed)\n",
    "random.seed(seed)"
   ]
  },
  {
   "cell_type": "code",
   "execution_count": 3,
   "metadata": {},
   "outputs": [],
   "source": [
    "from multiprocess_tools import *"
   ]
  },
  {
   "cell_type": "code",
   "execution_count": 4,
   "metadata": {},
   "outputs": [
    {
     "name": "stdout",
     "output_type": "stream",
     "text": [
      "loading data from /home/haibin2/data/checkins/data/NYC_INTV_processed_voc5_len2_setting_WITH_GPS_WITH_TIME_WITH_USERID.pk\n",
      "<class 'dict'>\n",
      "Job Done, used time 1.8461029529571533\n",
      "Job Done, used time 2.627285957336426\n"
     ]
    }
   ],
   "source": [
    "args = get_parser(['--CITY', 'NYC', '--LOG_DIR', 'log_test', '--normalize_weight', '--WITH_TIME', '--WITH_GPS', '--WITH_TIMESTAMP', '--geo_reg_type', 'l2'])\n",
    "nProcess = 4\n",
    "origin_data, dicts = load_data(os.path.join(args.ROOT, 'data','{}_INTV_processed_voc5_len2_setting_WITH_GPS_WITH_TIME_WITH_USERID.pk'.format(args.CITY) ))\n",
    "dist_matrix = np.random.uniform(size=(5452, 5452))\n",
    "mode = 'root'\n",
    "if mode == 'root':\n",
    "    ctgy_chkin_dict = dicts.rootctgy_chkin_dict\n",
    "else:\n",
    "    ctgy_chkin_dict = dicts.ctgy_chkin_dict\n",
    "print(type(dicts.ctgy_mapping))\n",
    "ctgy_modes = ['sub', 'root']\n",
    "args.n_process = 4\n",
    "history = defaultdict(list)\n",
    "for cmode in ctgy_modes:\n",
    "    history['{}_{}'.format(mode, cmode)].append(multiprocess_compute_distance(args, dist_matrix, dicts, cmode))"
   ]
  },
  {
   "cell_type": "code",
   "execution_count": null,
   "metadata": {},
   "outputs": [],
   "source": []
  }
 ],
 "metadata": {
  "kernelspec": {
   "display_name": "py3_env",
   "language": "python",
   "name": "py3_env"
  },
  "language_info": {
   "codemirror_mode": {
    "name": "ipython",
    "version": 3
   },
   "file_extension": ".py",
   "mimetype": "text/x-python",
   "name": "python",
   "nbconvert_exporter": "python",
   "pygments_lexer": "ipython3",
   "version": "3.5.2"
  }
 },
 "nbformat": 4,
 "nbformat_minor": 2
}
