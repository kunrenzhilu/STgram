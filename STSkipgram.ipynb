{
 "cells": [
  {
   "cell_type": "code",
   "execution_count": 5,
   "metadata": {},
   "outputs": [],
   "source": [
    "%matplotlib inline\n",
    "%reload_ext autoreload\n",
    "%autoreload 2\n",
    "seed = 1\n",
    "import numpy as np\n",
    "import random\n",
    "np.random.seed(seed)\n",
    "random.seed(seed)\n",
    "import os \n",
    "import csv\n",
    "import pickle\n",
    "import time\n",
    "import h5py\n",
    "from collections import defaultdict\n",
    "import tensorflow as tf\n",
    "import json\n",
    "import matplotlib.pyplot as plt\n",
    "from sklearn.manifold import TSNE\n",
    "import numpy.ma as ma\n",
    "\n",
    "os.environ['CUDA_VISIBLE_DEVICES'] = '1'\n",
    "config = tf.ConfigProto()\n",
    "# config.gpu_options.allow_growth=True\n",
    "config.gpu_options.per_process_gpu_memory_fraction = 0.2"
   ]
  },
  {
   "cell_type": "code",
   "execution_count": 6,
   "metadata": {},
   "outputs": [],
   "source": [
    "from dataloader import load_data, DataLoader, DataLoader_time\n",
    "from parser import get_parser\n",
    "from utils import norm, normalize, is_normalized_matrix, extract_data, save_args, load_args, \\\n",
    "    save_embeddings, load_embeddings, DataStruct, save_model_tf, save_best_tf, load_model_tf, \\\n",
    "    save_emb_from_ckpt\n",
    "from train import get_train_data, BestCriteria\n",
    "from logger import Logger\n",
    "from evaluation import Evaluator\n",
    "from model import init_params, crossentropy, choose_emb, choose_geo_loss, STSkipgram\n",
    "from multiprocess_tools import multiprocess_compute_distance"
   ]
  },
  {
   "cell_type": "code",
   "execution_count": 7,
   "metadata": {},
   "outputs": [],
   "source": [
    "args = get_parser(['--CITY', 'NYC', '--LOG_DIR', 'log_test', '--normalize_weight', '--WITH_TIME', '--WITH_GPS', '--WITH_TIMESTAMP', \n",
    "                   '--geo_reg_type', 'l2'])"
   ]
  },
  {
   "cell_type": "code",
   "execution_count": 8,
   "metadata": {},
   "outputs": [
    {
     "name": "stdout",
     "output_type": "stream",
     "text": [
      "loading data from /home/haibin2/data/checkins/data/NYC_INTV_processed_voc5_len2_setting_WITH_GPS_WITH_TIME_WITH_USERID.pk\n",
      "args.pattern: hand\n",
      "indices setting : normalize_weight WITH_TIMESTAMP WITH_TIME WITH_GPS\n",
      "indices: [0, 2, 3, 4, 5]\n"
     ]
    }
   ],
   "source": [
    "origin_data, dicts = load_data(os.path.join(args.ROOT, 'data','{}_INTV_processed_voc5_len2_setting_WITH_GPS_WITH_TIME_WITH_USERID.pk'.format(args.CITY) ))\n",
    "args.vocabulary_size = dicts.vocabulary_size\n",
    "data, idx = extract_data(origin_data, args)"
   ]
  },
  {
   "cell_type": "code",
   "execution_count": 9,
   "metadata": {},
   "outputs": [
    {
     "name": "stdout",
     "output_type": "stream",
     "text": [
      "Mode:both, size:(162302, 2, 5) size:(162302, 2, 5) total size:(324604, 2, 5)\n"
     ]
    }
   ],
   "source": [
    "train_data = get_train_data(data)"
   ]
  },
  {
   "cell_type": "code",
   "execution_count": 77,
   "metadata": {},
   "outputs": [],
   "source": [
    "tf.losses.mean_squared_error?"
   ]
  },
  {
   "cell_type": "code",
   "execution_count": 80,
   "metadata": {},
   "outputs": [],
   "source": [
    "def update(losses, sk, geo, t):\n",
    "    assert type(losses) is dict, 'losses is expected to be dict'\n",
    "    losses['geo'].append(geo)\n",
    "    losses['skipgram'].append(sk)\n",
    "    losses['time'].append(t)\n",
    "    return losses\n",
    "\n",
    "def compute_weight_decay(t1, t2, temp):\n",
    "    return np.exp(-1*(abs(t1-t2)/60*temp))\n",
    "\n",
    "def evaluate(emb, evaluator):\n",
    "    result = evaluator.evaluate(emb)\n",
    "    evaluator.update_history(res_dict=result)\n",
    "    evaluator.save_history()\n",
    "    return result\n",
    "\n",
    "def train(graph, sess, model, args, evaluator_emb, evaluator_weight, logger, dataloader, dataloader_time):\n",
    "    save_args(args)\n",
    "    losses = {'geo':[], 'skipgram':[], 'time':[]}\n",
    "    n_batch = 0\n",
    "    n_epoch = 0\n",
    "    tick0 = time.time()\n",
    "    \n",
    "    best_criteria = BestCriteria(['{}_f1_{}'.format(mode, k) for mode in ['sub', 'root'] for k in [1,5,10]])\n",
    "    with graph.as_default():\n",
    "        saver = tf.train.Saver(model.all_params)\n",
    "        if args.resume:\n",
    "            sess = load_model_tf(saver, args, sess)\n",
    "            evaluator.load_history(args)\n",
    "        else:\n",
    "            logger.renew_log_file()\n",
    "            sess.run(tf.global_variables_initializer())\n",
    "        logger.log('\\nStart training')\n",
    "        \n",
    "        while dataloader.get_epoch() < args.num_epoch:\n",
    "            if args.normalize_weight:\n",
    "                _ = sess.run([model.normalize_geo_emb_op, model.normalize_sem_emb_op,\n",
    "                              model.normalize_geo_wht_op, model.normalize_sem_wht_op])\n",
    "\n",
    "            epoch_tick = time.time()\n",
    "            emb, weight = sess.run([model.sem_emb, model.sem_wht])\n",
    "#             result_emb = evaluate(emb, evaluator_emb)\n",
    "#             result_weight = evaluate(weight, evaluator_weight)\n",
    "#             result = result_emb if args.main_emb == 'emb' else result_weight\n",
    "#             save_model_tf(saver, sess, args)\n",
    "#             if best_criteria.should_save(result):\n",
    "#                 tmp = dict(result)\n",
    "#                 tmp['epoch'] = n_epoch\n",
    "#                 tmp['batch'] = n_batch\n",
    "#                 save_best_tf(saver, sess, args, {'args':vars(args), 'result':tmp})\n",
    "            #-- Optimization steps \n",
    "            while n_epoch >= dataloader.get_epoch():\n",
    "                center, context = next(dataloader.dg)\n",
    "                sk_loss, _, geo_loss, _, a = sess.run([model.weighted_skipgram_loss, model.train_skipgram, model.geo_loss, model.train_geo, model.cosine_sim],\n",
    "                          {model.center_loc:center.ids, \n",
    "                           model.label_loc:context.ids.reshape(-1,1),\n",
    "                           model.weight_decay: compute_weight_decay(center.timestmp, context.timestmp, args.time_temp),\n",
    "                           model.coor_center:center.coors, \n",
    "                           model.coor_label:context.coors})\n",
    "\n",
    "                print('sk_loss: {} weight_decay: {}'.format(sk_loss, np.sum(weight_decay)))\n",
    "                loc, time_label = next(dataloader_time.dg)\n",
    "                t_loss, _ = sess.run([model.time_loss, model.train_t],\n",
    "                         {model.center_loc:loc, model.label_t:time_label})\n",
    "                \n",
    "                losses = update(losses, sk=sk_loss, geo=geo_loss, t=t_loss)\n",
    "                \n",
    "                if n_batch % 100 == 0:\n",
    "                    losses = {k:np.mean(v) for k, v in losses.items()}\n",
    "                    evaluator_emb.update_history(losses=losses)\n",
    "                    evaluator_weight.update_history(losses=losses)\n",
    "                    logstr = '[{}] LOSS '.format(n_batch) + \"\".join(['{} : {:.6f} '.format(k, v) for k, v in losses.items()])\n",
    "                    losses = {'geo':[], 'skipgram':[], 'time':[]}\n",
    "                    logger.log(logstr)\n",
    "                    \n",
    "                n_batch += 1\n",
    "            #-----------------------\n",
    "            n_epoch += 1\n",
    "            logstr = '#'*50+'\\n'\n",
    "            logstr += 'Ecpoh {}, used time: {}, eval: {}'.format(n_epoch, time.time()-epoch_tick, result)\n",
    "            logger.log(logstr)\n",
    "    logger.log('FINISH, USED TIME:{}'.format(time.time()-tick0))\n",
    "    return sess"
   ]
  },
  {
   "cell_type": "code",
   "execution_count": 79,
   "metadata": {},
   "outputs": [],
   "source": [
    "args.geo_reg_type = 'xn'"
   ]
  },
  {
   "cell_type": "code",
   "execution_count": 70,
   "metadata": {},
   "outputs": [],
   "source": [
    "# args.time_temp = 0.01\n",
    "# args.geo_temp = 10\n",
    "# args.main_emb = 'emb'\n",
    "# args.regulation_weight = 10\n",
    "# args.num_epoch = 30\n",
    "# args.resume = False\n",
    "# args.n_processes = 3\n",
    "# args.batch_size = 256"
   ]
  },
  {
   "cell_type": "code",
   "execution_count": 255,
   "metadata": {},
   "outputs": [],
   "source": [
    "sess.close()"
   ]
  },
  {
   "cell_type": "code",
   "execution_count": 23,
   "metadata": {},
   "outputs": [],
   "source": [
    "args.time_temp = 1000\n",
    "args.num_epoch = 1"
   ]
  },
  {
   "cell_type": "code",
   "execution_count": 81,
   "metadata": {
    "scrolled": true
   },
   "outputs": [
    {
     "name": "stdout",
     "output_type": "stream",
     "text": [
      "Saved args to benchmark/args.json\n",
      "\n",
      "Start training\n",
      "[68.77553  68.45454  69.07356  68.93322  69.129654 68.968155 69.659386\n",
      " 69.255066 69.81753  69.125206 67.33688  68.89388  67.33589  68.883606\n",
      " 69.26381  69.366005 67.33555  69.20838  68.945755 69.505516 69.13584\n",
      " 69.70017  69.04113  69.17405  69.21467  69.14224  69.84952  68.78903\n",
      " 69.285545 69.46316  68.997314 69.13815  69.8533   67.33547  69.73669\n",
      " 69.12296  69.26909  69.61879  69.12519  69.29826  68.73037  69.6498\n",
      " 69.31247  67.33446  69.15773  69.80148  68.93997  69.40432  67.45378\n",
      " 69.40179  68.9335   69.34122  69.38738  69.01755  69.13279  69.284004\n",
      " 69.69801  69.74647  69.4465   69.432495 67.33486  69.602    69.31567\n",
      " 69.59169  69.441956 69.07506  69.483604 69.74004  69.09158  69.424194\n",
      " 68.947914 69.26139  69.11695  69.084694 69.36467  69.47377  69.412704\n",
      " 69.02726  67.33446  69.412636 69.58748  69.48951  69.2864   69.63712\n",
      " 68.73439  67.337425 69.21439  69.29479  69.44097  68.9886   69.21481\n",
      " 69.44306  67.35859  69.383316 69.486206 69.38402  69.08962  69.801865\n",
      " 69.09478  69.56206  69.59095  69.30037  69.385376 69.619    69.61316\n",
      " 69.02015  69.00267  69.5239   69.55465  68.74268  69.50909  69.0888\n",
      " 67.335144 69.55551  69.50938  67.33606  68.84211  69.16024  69.051155\n",
      " 69.58057  69.26773  69.52657  69.04699  69.57897  69.0021   69.084076\n",
      " 69.003334 69.78847  69.17843  69.4823   69.829094 69.29745  69.197525\n",
      " 69.24767  69.615005 69.3675   69.255974 67.371994 69.285545 69.44408\n",
      " 67.33577  69.205986 69.01496  69.6017   67.33922  67.33446  67.33446\n",
      " 69.302986 68.98031  69.16824  69.59873  69.61884  69.35477  69.391975\n",
      " 69.07056  68.71275  69.8      69.62976  69.515625 69.66819  69.44565\n",
      " 69.505516 69.04069  69.59826  69.27415  69.19108  69.293304 68.71406\n",
      " 69.46987  69.16731  69.106995 69.12072  69.7163   69.37175  69.11925\n",
      " 69.232185 68.82485  69.64748  68.98467  69.01888  69.410934 67.38363\n",
      " 68.83562  69.41266  67.33619  69.04571  69.237465 68.91557  69.43124\n",
      " 69.069084 68.96149  69.50863  69.19635  69.513336 69.21386  69.43001\n",
      " 69.8323   68.9204   69.006805 69.31971  69.74314  68.62381  69.6625\n",
      " 69.38478  68.741776 69.29835  69.9635   69.78599  69.38036  69.21635\n",
      " 68.878685 69.2521   68.900475 69.3908   67.33446  67.33471  69.35545\n",
      " 69.21288  69.34122  69.29562  68.90122  69.10884  69.208084 69.44361\n",
      " 69.64346  69.606    69.28577  69.347755 69.03059  69.30309  69.74042\n",
      " 68.96807  69.91881  69.84915  69.33687  69.65363  69.308266 69.50741\n",
      " 69.14286  69.45532  69.32457  67.34116  69.26344  69.42723  69.20914\n",
      " 69.43189  69.22479  69.51453  69.113976 69.055214 69.45247  69.405655\n",
      " 69.72349  69.32235  68.98044  69.38343 ]\n"
     ]
    },
    {
     "ename": "AssertionError",
     "evalue": "",
     "output_type": "error",
     "traceback": [
      "\u001b[0;31m---------------------------------------------------------------------------\u001b[0m",
      "\u001b[0;31mAssertionError\u001b[0m                            Traceback (most recent call last)",
      "\u001b[0;32m<ipython-input-81-59e33ff2479e>\u001b[0m in \u001b[0;36m<module>\u001b[0;34m()\u001b[0m\n\u001b[1;32m      9\u001b[0m     \u001b[0mmodel\u001b[0m \u001b[0;34m=\u001b[0m \u001b[0mSTSkipgram\u001b[0m\u001b[0;34m(\u001b[0m\u001b[0margs\u001b[0m\u001b[0;34m)\u001b[0m\u001b[0;34m\u001b[0m\u001b[0m\n\u001b[1;32m     10\u001b[0m     \u001b[0msess\u001b[0m \u001b[0;34m=\u001b[0m \u001b[0mtf\u001b[0m\u001b[0;34m.\u001b[0m\u001b[0mSession\u001b[0m\u001b[0;34m(\u001b[0m\u001b[0mgraph\u001b[0m\u001b[0;34m=\u001b[0m\u001b[0mgraph\u001b[0m\u001b[0;34m,\u001b[0m \u001b[0mconfig\u001b[0m\u001b[0;34m=\u001b[0m\u001b[0mconfig\u001b[0m\u001b[0;34m)\u001b[0m\u001b[0;34m\u001b[0m\u001b[0m\n\u001b[0;32m---> 11\u001b[0;31m \u001b[0msess\u001b[0m \u001b[0;34m=\u001b[0m \u001b[0mtrain\u001b[0m\u001b[0;34m(\u001b[0m\u001b[0mgraph\u001b[0m\u001b[0;34m,\u001b[0m \u001b[0msess\u001b[0m\u001b[0;34m,\u001b[0m \u001b[0mmodel\u001b[0m\u001b[0;34m,\u001b[0m \u001b[0margs\u001b[0m\u001b[0;34m,\u001b[0m \u001b[0mevaluator_emb\u001b[0m\u001b[0;34m,\u001b[0m \u001b[0mevaluator_weight\u001b[0m\u001b[0;34m,\u001b[0m \u001b[0mlogger\u001b[0m\u001b[0;34m,\u001b[0m \u001b[0mdataloader\u001b[0m\u001b[0;34m,\u001b[0m \u001b[0mdataloader_time\u001b[0m\u001b[0;34m)\u001b[0m\u001b[0;34m\u001b[0m\u001b[0m\n\u001b[0m",
      "\u001b[0;32m<ipython-input-80-a3950dcc317f>\u001b[0m in \u001b[0;36mtrain\u001b[0;34m(graph, sess, model, args, evaluator_emb, evaluator_weight, logger, dataloader, dataloader_time)\u001b[0m\n\u001b[1;32m     59\u001b[0m                            model.coor_label:context.coors})\n\u001b[1;32m     60\u001b[0m                 \u001b[0mprint\u001b[0m\u001b[0;34m(\u001b[0m\u001b[0mgeo_loss\u001b[0m\u001b[0;34m)\u001b[0m\u001b[0;34m\u001b[0m\u001b[0m\n\u001b[0;32m---> 61\u001b[0;31m                 \u001b[0;32massert\u001b[0m \u001b[0;36m0\u001b[0m\u001b[0;34m\u001b[0m\u001b[0m\n\u001b[0m\u001b[1;32m     62\u001b[0m                 \u001b[0mprint\u001b[0m\u001b[0;34m(\u001b[0m\u001b[0;34m'sk_loss: {} weight_decay: {}'\u001b[0m\u001b[0;34m.\u001b[0m\u001b[0mformat\u001b[0m\u001b[0;34m(\u001b[0m\u001b[0msk_loss\u001b[0m\u001b[0;34m,\u001b[0m \u001b[0mnp\u001b[0m\u001b[0;34m.\u001b[0m\u001b[0msum\u001b[0m\u001b[0;34m(\u001b[0m\u001b[0mweight_decay\u001b[0m\u001b[0;34m)\u001b[0m\u001b[0;34m)\u001b[0m\u001b[0;34m)\u001b[0m\u001b[0;34m\u001b[0m\u001b[0m\n\u001b[1;32m     63\u001b[0m                 \u001b[0mloc\u001b[0m\u001b[0;34m,\u001b[0m \u001b[0mtime_label\u001b[0m \u001b[0;34m=\u001b[0m \u001b[0mnext\u001b[0m\u001b[0;34m(\u001b[0m\u001b[0mdataloader_time\u001b[0m\u001b[0;34m.\u001b[0m\u001b[0mdg\u001b[0m\u001b[0;34m)\u001b[0m\u001b[0;34m\u001b[0m\u001b[0m\n",
      "\u001b[0;31mAssertionError\u001b[0m: "
     ]
    }
   ],
   "source": [
    "# dataloader = DataLoader(train_data, args)\n",
    "# dataloader_time = DataLoader_time(data, args, idx)\n",
    "# evaluator_emb = Evaluator(args, dicts, mode='emb')\n",
    "# evaluator_weight = Evaluator(args, dicts, mode='weight')\n",
    "# logger = Logger(os.path.join(args.LOG_DIR, 'log_txt'))\n",
    "\n",
    "graph = tf.Graph()\n",
    "with graph.as_default():\n",
    "    model = STSkipgram(args)\n",
    "    sess = tf.Session(graph=graph, config=config)\n",
    "sess = train(graph, sess, model, args, evaluator_emb, evaluator_weight, logger, dataloader, dataloader_time)"
   ]
  },
  {
   "cell_type": "code",
   "execution_count": 11,
   "metadata": {},
   "outputs": [],
   "source": [
    "def compute_weight_decay(t1, t2, temp):\n",
    "    return np.exp(-1*(abs(t1-t2)/60)*temp)"
   ]
  },
  {
   "cell_type": "code",
   "execution_count": 14,
   "metadata": {},
   "outputs": [],
   "source": [
    "center, context = next(dataloader.dg)"
   ]
  },
  {
   "cell_type": "code",
   "execution_count": 11,
   "metadata": {},
   "outputs": [],
   "source": [
    "for i in range(100):\n",
    "    center, context = next(dataloader.dg)\n",
    "    a = compute_weight_decay(center.timestmp, context.timestmp, temp)\n",
    "    x, y = np.nonzero(a)\n",
    "    print()"
   ]
  },
  {
   "cell_type": "code",
   "execution_count": 83,
   "metadata": {},
   "outputs": [],
   "source": [
    "def compute_geo_weight(x, y, temp):\n",
    "    return np.exp(-1*norm(x-y)*temp)"
   ]
  },
  {
   "cell_type": "code",
   "execution_count": 84,
   "metadata": {},
   "outputs": [],
   "source": [
    "x = center.coors; y = context.coors"
   ]
  },
  {
   "cell_type": "code",
   "execution_count": 41,
   "metadata": {},
   "outputs": [
    {
     "data": {
      "text/plain": [
       "(0.03250825797907949, 0.05113728825119217)"
      ]
     },
     "execution_count": 41,
     "metadata": {},
     "output_type": "execute_result"
    }
   ],
   "source": [
    "np.mean(norm(x-y)), np.std(norm(x-y))"
   ]
  },
  {
   "cell_type": "code",
   "execution_count": 89,
   "metadata": {},
   "outputs": [
    {
     "data": {
      "image/png": "[encoded data removed]",
      "text/plain": [
       "<Figure size 432x288 with 1 Axes>"
      ]
     },
     "metadata": {},
     "output_type": "display_data"
    }
   ],
   "source": [
    "temp = 100\n",
    "a = compute_geo_weight(center.coors, context.coors, temp)\n",
    "_=plt.hist(a, bins=np.linspace(0,1,50))"
   ]
  },
  {
   "cell_type": "code",
   "execution_count": 90,
   "metadata": {},
   "outputs": [
    {
     "data": {
      "image/png": "[encoded data removed]",
      "text/plain": [
       "<Figure size 432x288 with 1 Axes>"
      ]
     },
     "metadata": {},
     "output_type": "display_data"
    }
   ],
   "source": [
    "temp = 10\n",
    "a = compute_geo_weight(center.coors, context.coors, temp)\n",
    "_=plt.hist(a, bins=np.linspace(0,1,50))"
   ]
  },
  {
   "cell_type": "code",
   "execution_count": 29,
   "metadata": {},
   "outputs": [
    {
     "data": {
      "image/png": "[encoded data removed]",
      "text/plain": [
       "<Figure size 432x288 with 1 Axes>"
      ]
     },
     "metadata": {},
     "output_type": "display_data"
    }
   ],
   "source": [
    "temp = 0.001\n",
    "a = compute_weight_decay(center.timestmp, context.timestmp, temp)\n",
    "_=plt.hist(a, bins=np.linspace(0,1,50))"
   ]
  },
  {
   "cell_type": "code",
   "execution_count": 24,
   "metadata": {},
   "outputs": [
    {
     "data": {
      "image/png": "[encoded data removed]",
      "text/plain": [
       "<Figure size 432x288 with 1 Axes>"
      ]
     },
     "metadata": {},
     "output_type": "display_data"
    }
   ],
   "source": [
    "temp = 10\n",
    "a = compute_weight_decay(center.timestmp, context.timestmp, temp)\n",
    "_=plt.hist(a, bins=np.linspace(0,0.01,50))"
   ]
  },
  {
   "cell_type": "markdown",
   "metadata": {},
   "source": [
    "---"
   ]
  },
  {
   "cell_type": "code",
   "execution_count": null,
   "metadata": {},
   "outputs": [],
   "source": []
  },
  {
   "cell_type": "code",
   "execution_count": 57,
   "metadata": {},
   "outputs": [],
   "source": [
    "args.LOG_DIR = 'benchmark'"
   ]
  },
  {
   "cell_type": "code",
   "execution_count": 60,
   "metadata": {},
   "outputs": [
    {
     "name": "stdout",
     "output_type": "stream",
     "text": [
      "INFO:tensorflow:Restoring parameters from benchmark/best/model.ckpt\n",
      "Saved data to benchmark/NYC_sem_emb.h5\n",
      "Saved data to benchmark/NYC_embeddings.h5\n",
      "Done, saved everything to benchmark, Used time 1.1390259265899658\n"
     ]
    }
   ],
   "source": [
    "save_emb_from_ckpt(args)"
   ]
  },
  {
   "cell_type": "code",
   "execution_count": 54,
   "metadata": {},
   "outputs": [],
   "source": [
    "tf.reset_default_graph()"
   ]
  }
 ],
 "metadata": {
  "kernelspec": {
   "display_name": "py3_env",
   "language": "python",
   "name": "py3_env"
  },
  "language_info": {
   "codemirror_mode": {
    "name": "ipython",
    "version": 3
   },
   "file_extension": ".py",
   "mimetype": "text/x-python",
   "name": "python",
   "nbconvert_exporter": "python",
   "pygments_lexer": "ipython3",
   "version": "3.5.2"
  }
 },
 "nbformat": 4,
 "nbformat_minor": 2
}
